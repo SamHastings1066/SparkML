{
 "cells": [
  {
   "cell_type": "code",
   "execution_count": 1,
   "metadata": {},
   "outputs": [
    {
     "name": "stdout",
     "output_type": "stream",
     "text": [
      "\u001b[34mABM_txn\u001b[m\u001b[m        \u001b[34mProperty\u001b[m\u001b[m       \u001b[34maws\u001b[m\u001b[m            \u001b[34mmisc\u001b[m\u001b[m           \u001b[34msandbox\u001b[m\u001b[m\n",
      "\u001b[34mAngular\u001b[m\u001b[m        Untitled.ipynb \u001b[34mmesa_example\u001b[m\u001b[m   \u001b[34mnew\u001b[m\u001b[m            \u001b[34mspark\u001b[m\u001b[m\n"
     ]
    }
   ],
   "source": [
    "!ls"
   ]
  },
  {
   "cell_type": "code",
   "execution_count": null,
   "metadata": {},
   "outputs": [],
   "source": []
  }
 ],
 "metadata": {
  "kernelspec": {
   "display_name": "Python 3",
   "language": "python",
   "name": "python3"
  },
  "language_info": {
   "codemirror_mode": {
    "name": "ipython",
    "version": 3
   },
   "file_extension": ".py",
   "mimetype": "text/x-python",
   "name": "python",
   "nbconvert_exporter": "python",
   "pygments_lexer": "ipython3",
   "version": "3.7.8"
  }
 },
 "nbformat": 4,
 "nbformat_minor": 4
}
